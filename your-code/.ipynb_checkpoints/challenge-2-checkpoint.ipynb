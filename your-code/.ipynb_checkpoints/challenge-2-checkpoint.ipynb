{
 "cells": [
  {
   "cell_type": "markdown",
   "metadata": {},
   "source": [
    "## Challenge 2: Sets\n",
    "\n",
    "There are a lot to learn about Python Sets and the information presented in the lesson is limited due to its length. To learn Python Sets in depth you are strongly encouraged to review the W3Schools tutorial on [Python Sets Examples and Methods](https://www.w3schools.com/python/python_sets.asp) before you work on this lab. Some difficult questions in this lab have their solutions in the W3Schools tutorial.\n",
    "\n",
    "#### First, import the Python `random` libary"
   ]
  },
  {
   "cell_type": "code",
   "execution_count": 1,
   "metadata": {},
   "outputs": [],
   "source": [
    "import random"
   ]
  },
  {
   "cell_type": "markdown",
   "metadata": {},
   "source": [
    "#### In the cell below, create a list named `sample_list_1` with 80 random values. \n",
    "\n",
    "Requirements:\n",
    "\n",
    "* Each value is an integer falling between 0 and 100.\n",
    "* Each value in the list is unique.\n",
    "\n",
    "Print `sample_list_1` to review its values\n",
    "\n",
    "*Hint: use `random.sample` ([reference](https://docs.python.org/3/library/random.html#random.sample)).*"
   ]
  },
  {
   "cell_type": "code",
   "execution_count": 17,
   "metadata": {},
   "outputs": [
    {
     "name": "stdout",
     "output_type": "stream",
     "text": [
      "[37, 58, 8, 54, 3, 60, 49, 48, 73, 5, 2, 79, 69, 74, 34, 82, 16, 81, 27, 72, 71, 44, 77, 39, 94, 88, 1, 55, 47, 30, 9, 23, 76, 4, 97, 7, 45, 32, 59, 18, 35, 38, 22, 65, 31, 92, 68, 85, 36, 52, 84, 91, 61, 0, 21, 43, 86, 19, 10, 83, 50, 87, 90, 57, 6, 20, 17, 75, 12, 93, 66, 62, 33, 40, 95, 46, 26, 42, 28, 56]\n"
     ]
    }
   ],
   "source": [
    "# Your code here\n",
    "sample_list_1 = random.sample(range(100), k=80)\n",
    "print(sample_list_1) \n"
   ]
  },
  {
   "cell_type": "markdown",
   "metadata": {},
   "source": [
    "#### Convert `sample_list_1` to a set called `set1`. Print the length of the set. Is its length still 80?"
   ]
  },
  {
   "cell_type": "code",
   "execution_count": 19,
   "metadata": {},
   "outputs": [
    {
     "name": "stdout",
     "output_type": "stream",
     "text": [
      "{0, 1, 2, 3, 4, 5, 6, 7, 8, 9, 10, 12, 16, 17, 18, 19, 20, 21, 22, 23, 26, 27, 28, 30, 31, 32, 33, 34, 35, 36, 37, 38, 39, 40, 42, 43, 44, 45, 46, 47, 48, 49, 50, 52, 54, 55, 56, 57, 58, 59, 60, 61, 62, 65, 66, 68, 69, 71, 72, 73, 74, 75, 76, 77, 79, 81, 82, 83, 84, 85, 86, 87, 88, 90, 91, 92, 93, 94, 95, 97}\n",
      "the length pf the set is: 80\n"
     ]
    }
   ],
   "source": [
    "# Your code here\n",
    "set1 = set((sample_list_1))\n",
    "print(set1)\n",
    "\n",
    "print('the length pf the set is:', len(set1))\n"
   ]
  },
  {
   "cell_type": "markdown",
   "metadata": {},
   "source": [
    "#### Create another list named `sample_list_2` with 80 random values.\n",
    "\n",
    "Requirements:\n",
    "\n",
    "* Each value is an integer falling between 0 and 100.\n",
    "* The values in the list don't have to be unique.\n",
    "\n",
    "*Hint: Use a FOR loop.*"
   ]
  },
  {
   "cell_type": "code",
   "execution_count": 41,
   "metadata": {},
   "outputs": [
    {
     "name": "stdout",
     "output_type": "stream",
     "text": [
      "[83, 6, 37, 96, 63, 82, 12, 84, 47, 94, 48, 3, 77, 60, 48, 5, 72, 68, 25, 22, 5, 85, 87, 54, 9, 32, 86, 14, 51, 30, 45, 41, 35, 50, 70, 39, 32, 58, 13, 23, 49, 61, 36, 2, 92, 23, 37, 42, 67, 55, 69, 96, 56, 74, 27, 58, 34, 81, 44, 8, 63, 63, 17, 17, 21, 32, 84, 23, 30, 70, 15, 76, 59, 41, 92, 70, 94, 60, 84, 100]\n",
      "The length of the list is: 80\n"
     ]
    }
   ],
   "source": [
    "# Your code here\n",
    "sample_list_2 = []\n",
    "\n",
    "for i in range(80):\n",
    "    i = random.randint(0, 100)\n",
    "    sample_list_2.append(i)\n",
    "print(sample_list_2)\n",
    "\n",
    "print('The length of the list is:', len(sample_list_2))\n"
   ]
  },
  {
   "cell_type": "markdown",
   "metadata": {},
   "source": [
    "#### Convert `sample_list_2` to a set called `set2`. Print the length of the set. Is its length still 80?"
   ]
  },
  {
   "cell_type": "code",
   "execution_count": 42,
   "metadata": {},
   "outputs": [
    {
     "name": "stdout",
     "output_type": "stream",
     "text": [
      "{2, 3, 5, 6, 8, 9, 12, 13, 14, 15, 17, 21, 22, 23, 25, 27, 30, 32, 34, 35, 36, 37, 39, 41, 42, 44, 45, 47, 48, 49, 50, 51, 54, 55, 56, 58, 59, 60, 61, 63, 67, 68, 69, 70, 72, 74, 76, 77, 81, 82, 83, 84, 85, 86, 87, 92, 94, 96, 100}\n",
      "The lenght of the set is: 59\n"
     ]
    }
   ],
   "source": [
    "# Your code here\n",
    "set2 = set(sample_list_2)\n",
    "print(set2)\n",
    "\n",
    "print('The lenght of the set is:', len(set2))\n"
   ]
  },
  {
   "cell_type": "markdown",
   "metadata": {},
   "source": [
    "#### Identify the elements present in `set1` but not in `set2`. Assign the elements to a new set named `set3`."
   ]
  },
  {
   "cell_type": "code",
   "execution_count": 44,
   "metadata": {},
   "outputs": [
    {
     "name": "stdout",
     "output_type": "stream",
     "text": [
      "{0, 1, 4, 7, 10, 16, 18, 19, 20, 26, 28, 31, 33, 38, 40, 43, 46, 52, 57, 62, 65, 66, 71, 73, 75, 79, 88, 90, 91, 93, 95, 97}\n"
     ]
    }
   ],
   "source": [
    "# Your code here\n",
    "# welke zitten wel in set1 maar niet in set2 >> set1 - set2\n",
    "\n",
    "set3 = set1 - set2\n",
    "print(set3)\n"
   ]
  },
  {
   "cell_type": "markdown",
   "metadata": {},
   "source": [
    "#### Identify the elements present in `set2` but not in `set1`. Assign the elements to a new set named `set4`."
   ]
  },
  {
   "cell_type": "code",
   "execution_count": 45,
   "metadata": {},
   "outputs": [
    {
     "name": "stdout",
     "output_type": "stream",
     "text": [
      "{96, 67, 100, 70, 41, 13, 14, 15, 51, 25, 63}\n"
     ]
    }
   ],
   "source": [
    "# Your code here\n",
    "# welke zitten wel in set2 maar niet in set1 >> set2 - set1\n",
    "\n",
    "set4 = set2 - set1\n",
    "print(set4)\n"
   ]
  },
  {
   "cell_type": "markdown",
   "metadata": {},
   "source": [
    "#### Now Identify the elements shared between `set1` and `set2`. Assign the elements to a new set named `set5`."
   ]
  },
  {
   "cell_type": "code",
   "execution_count": 46,
   "metadata": {},
   "outputs": [
    {
     "name": "stdout",
     "output_type": "stream",
     "text": [
      "{2, 3, 5, 6, 8, 9, 12, 17, 21, 22, 23, 27, 30, 32, 34, 35, 36, 37, 39, 42, 44, 45, 47, 48, 49, 50, 54, 55, 56, 58, 59, 60, 61, 68, 69, 72, 74, 76, 77, 81, 82, 83, 84, 85, 86, 87, 92, 94}\n"
     ]
    }
   ],
   "source": [
    "# Your code here\n",
    "# welke elementen zitten in set1 en in set2 >> intersection \n",
    "\n",
    "set5 = set1.intersection(set2)\n",
    "print(set5)\n"
   ]
  },
  {
   "cell_type": "markdown",
   "metadata": {},
   "source": [
    "#### What is the relationship among the following values:\n",
    "\n",
    "* len(set1)\n",
    "* len(set2)\n",
    "* len(set3)\n",
    "* len(set4)\n",
    "* len(set5)\n",
    "\n",
    "Use a math formular to represent that relationship. Test your formular with Python code."
   ]
  },
  {
   "cell_type": "code",
   "execution_count": 60,
   "metadata": {},
   "outputs": [
    {
     "name": "stdout",
     "output_type": "stream",
     "text": [
      "All the sets are not related\n",
      "80\n",
      "59\n",
      "32\n",
      "11\n",
      "48\n"
     ]
    },
    {
     "data": {
      "text/plain": [
       "'\\nnote for myself:\\n    len(set1) == len(set2)\\n    len(set1) == len(set3)\\n    len(set1) == len(set4)\\n    len(set1) == len(set5)\\n'"
      ]
     },
     "execution_count": 60,
     "metadata": {},
     "output_type": "execute_result"
    }
   ],
   "source": [
    "# Your code here\n",
    "\n",
    "if len(set1) == len(set2):\n",
    "    print('set1 has the same length as set2')\n",
    "elif len(set1) == len(set3):\n",
    "    print('set1 has the same length as set3')\n",
    "elif len(set1) == len(set4):\n",
    "    print('set1 has the same length as set4')\n",
    "elif len(set1) == len(set5):\n",
    "    print('set1 has the same length as set5')\n",
    "elif len(set2) == len(set3):\n",
    "    print('set2 has the same length as set3')\n",
    "elif len(set2) == len(set4):\n",
    "    print('set2 has the same length as set4')\n",
    "elif len(set2) == len(set5):\n",
    "    print('set2 has the same length as set5')\n",
    "elif len(set3) == len(set4):\n",
    "    print('set3 has the same length as set4')\n",
    "elif len(set3) == len(set5):\n",
    "    print('set3 has the same length as set5')\n",
    "elif len(set4) == len(set5):\n",
    "    print('set4 has the same length as set4')\n",
    "else:\n",
    "    print('All the sets are not related')\n",
    "    \n",
    "# checking the length\n",
    "print(len(set1)) \n",
    "print(len(set2))\n",
    "print(len(set3))\n",
    "print(len(set4))\n",
    "print(len(set5))\n",
    "\n",
    "'''\n",
    "note for myself:\n",
    "    len(set1) == len(set2)\n",
    "    len(set1) == len(set3)\n",
    "    len(set1) == len(set4)\n",
    "    len(set1) == len(set5)\n",
    "'''"
   ]
  },
  {
   "cell_type": "markdown",
   "metadata": {},
   "source": [
    "#### Create an empty set called `set6`."
   ]
  },
  {
   "cell_type": "code",
   "execution_count": 62,
   "metadata": {},
   "outputs": [],
   "source": [
    "# Your code here\n",
    "set6 = set()\n"
   ]
  },
  {
   "cell_type": "markdown",
   "metadata": {},
   "source": [
    "#### Add `set3` and `set5` to `set6` using the Python Set `update` method."
   ]
  },
  {
   "cell_type": "code",
   "execution_count": 69,
   "metadata": {},
   "outputs": [
    {
     "name": "stdout",
     "output_type": "stream",
     "text": [
      "{0, 1, 2, 3, 4, 5, 6, 7, 8, 9, 10, 12, 16, 17, 18, 19, 20, 21, 22, 23, 26, 27, 28, 30, 31, 32, 33, 34, 35, 36, 37, 38, 39, 40, 42, 43, 44, 45, 46, 47, 48, 49, 50, 52, 54, 55, 56, 57, 58, 59, 60, 61, 62, 65, 66, 68, 69, 71, 72, 73, 74, 75, 76, 77, 79, 81, 82, 83, 84, 85, 86, 87, 88, 90, 91, 92, 93, 94, 95, 97}\n"
     ]
    }
   ],
   "source": [
    "# Your code here\n",
    "set6.update(set3.union(set5))\n",
    "print(set6)\n"
   ]
  },
  {
   "cell_type": "markdown",
   "metadata": {},
   "source": [
    "#### Check if `set1` and `set6` are equal."
   ]
  },
  {
   "cell_type": "code",
   "execution_count": 71,
   "metadata": {},
   "outputs": [
    {
     "data": {
      "text/plain": [
       "True"
      ]
     },
     "execution_count": 71,
     "metadata": {},
     "output_type": "execute_result"
    }
   ],
   "source": [
    "# Your code here\n",
    "set1 == set6\n"
   ]
  },
  {
   "cell_type": "markdown",
   "metadata": {},
   "source": [
    "#### Check if `set1` contains `set2` using the Python Set `issubset` method. Then check if `set1` contains `set3`.*"
   ]
  },
  {
   "cell_type": "code",
   "execution_count": 79,
   "metadata": {},
   "outputs": [
    {
     "name": "stdout",
     "output_type": "stream",
     "text": [
      "Both are false: not all items in set1 exists in set2 or set3\n"
     ]
    }
   ],
   "source": [
    "# Your code here\n",
    "\n",
    "set1.issubset(set2)\n",
    "set1.issubset(set3)\n",
    "\n",
    "print('Both are false: not all items in set1 exists in set2 or set3')"
   ]
  },
  {
   "cell_type": "markdown",
   "metadata": {},
   "source": [
    "#### Using the Python Set `union` method, aggregate `set3`, `set4`, and `set5`. Then aggregate `set1` and `set2`. \n",
    "\n",
    "#### Check if the aggregated values are equal."
   ]
  },
  {
   "cell_type": "code",
   "execution_count": 83,
   "metadata": {},
   "outputs": [
    {
     "name": "stdout",
     "output_type": "stream",
     "text": [
      "aggregated set3, set4 and set5: {0, 1, 2, 3, 4, 5, 6, 7, 8, 9, 10, 12, 13, 14, 15, 16, 17, 18, 19, 20, 21, 22, 23, 25, 26, 27, 28, 30, 31, 32, 33, 34, 35, 36, 37, 38, 39, 40, 41, 42, 43, 44, 45, 46, 47, 48, 49, 50, 51, 52, 54, 55, 56, 57, 58, 59, 60, 61, 62, 63, 65, 66, 67, 68, 69, 70, 71, 72, 73, 74, 75, 76, 77, 79, 81, 82, 83, 84, 85, 86, 87, 88, 90, 91, 92, 93, 94, 95, 96, 97, 100}\n",
      "aggregated set1 and set2: {0, 1, 2, 3, 4, 5, 6, 7, 8, 9, 10, 12, 13, 14, 15, 16, 17, 18, 19, 20, 21, 22, 23, 25, 26, 27, 28, 30, 31, 32, 33, 34, 35, 36, 37, 38, 39, 40, 41, 42, 43, 44, 45, 46, 47, 48, 49, 50, 51, 52, 54, 55, 56, 57, 58, 59, 60, 61, 62, 63, 65, 66, 67, 68, 69, 70, 71, 72, 73, 74, 75, 76, 77, 79, 81, 82, 83, 84, 85, 86, 87, 88, 90, 91, 92, 93, 94, 95, 96, 97, 100}\n"
     ]
    }
   ],
   "source": [
    "# Your code here\n",
    "aggregate_set3_set4_set5 = set3.union(set4.union(set5))\n",
    "print('aggregated set3, set4 and set5:', aggregate_set1_set4_set5)\n",
    "\n",
    "aggregate_set1_set2 = set1.union(set2)\n",
    "print('aggregated set1 and set2:', aggregate_set1_set2)\n"
   ]
  },
  {
   "cell_type": "markdown",
   "metadata": {},
   "source": [
    "#### Using the `pop` method, remove the first element from `set1`."
   ]
  },
  {
   "cell_type": "code",
   "execution_count": null,
   "metadata": {},
   "outputs": [],
   "source": [
    "# Your code here\n",
    "\n",
    "'''Whit pop you can not say which element you removed.\n",
    "so removing the first element with pop is not possible'''\n"
   ]
  },
  {
   "cell_type": "markdown",
   "metadata": {},
   "source": [
    "#### Remove every element in the following list from `set1` if they are present in the set. Print the remaining elements.\n",
    "\n",
    "```\n",
    "list_to_remove = [1, 9, 11, 19, 21, 29, 31, 39, 41, 49, 51, 59, 61, 69, 71, 79, 81, 89, 91, 99]\n",
    "```"
   ]
  },
  {
   "cell_type": "code",
   "execution_count": 105,
   "metadata": {},
   "outputs": [
    {
     "name": "stdout",
     "output_type": "stream",
     "text": [
      "remaining elements in set6 are: {0, 1, 2, 3, 4, 5, 6, 7, 8, 9, 10, 12, 16, 17, 18, 19, 20, 22, 23, 26, 27, 28, 30, 32, 33, 34, 35, 36, 37, 38, 40, 42, 43, 44, 45, 46, 47, 48, 50, 52, 54, 55, 56, 57, 58, 60, 62, 65, 66, 68, 72, 73, 74, 75, 76, 77, 82, 83, 84, 85, 86, 87, 88, 90, 92, 93, 94, 95, 97}\n"
     ]
    }
   ],
   "source": [
    "# Your code here\n",
    "list_to_remove = [1, 9, 11, 19, 21, 29, 31, 39, 41, 49, 51, 59, 61, 69, 71, 79, 81, 89, 91, 99]\n",
    "new_set = set()\n",
    "same_elements = []\n",
    "\n",
    "# welke values komen overeen + maak nieuwe lijst\n",
    "for i in set1:\n",
    "    if i == i in list_to_remove:\n",
    "        same_elements.append(i)\n",
    "\n",
    "# maak set van values die overeen komen \n",
    "new_set.update(same_elements)\n",
    "\n",
    "# remaining elements in set 6: set6 - new_set\n",
    "left_over_set6 = set6 - new_set \n",
    "\n",
    "print('remaining elements in set6 are:', left_over_set6)\n"
   ]
  },
  {
   "cell_type": "code",
   "execution_count": null,
   "metadata": {},
   "outputs": [],
   "source": []
  }
 ],
 "metadata": {
  "kernelspec": {
   "display_name": "Python 3",
   "language": "python",
   "name": "python3"
  },
  "language_info": {
   "codemirror_mode": {
    "name": "ipython",
    "version": 3
   },
   "file_extension": ".py",
   "mimetype": "text/x-python",
   "name": "python",
   "nbconvert_exporter": "python",
   "pygments_lexer": "ipython3",
   "version": "3.7.3"
  }
 },
 "nbformat": 4,
 "nbformat_minor": 2
}
