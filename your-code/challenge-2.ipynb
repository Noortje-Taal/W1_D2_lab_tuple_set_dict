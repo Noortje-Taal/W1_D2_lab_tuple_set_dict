{
 "cells": [
  {
   "cell_type": "markdown",
   "metadata": {},
   "source": [
    "## Challenge 2: Sets\n",
    "\n",
    "There are a lot to learn about Python Sets and the information presented in the lesson is limited due to its length. To learn Python Sets in depth you are strongly encouraged to review the W3Schools tutorial on [Python Sets Examples and Methods](https://www.w3schools.com/python/python_sets.asp) before you work on this lab. Some difficult questions in this lab have their solutions in the W3Schools tutorial.\n",
    "\n",
    "#### First, import the Python `random` libary"
   ]
  },
  {
   "cell_type": "code",
   "execution_count": 24,
   "metadata": {},
   "outputs": [],
   "source": [
    "import random"
   ]
  },
  {
   "cell_type": "markdown",
   "metadata": {},
   "source": [
    "#### In the cell below, create a list named `sample_list_1` with 80 random values. \n",
    "\n",
    "Requirements:\n",
    "\n",
    "* Each value is an integer falling between 0 and 100.\n",
    "* Each value in the list is unique.\n",
    "\n",
    "Print `sample_list_1` to review its values\n",
    "\n",
    "*Hint: use `random.sample` ([reference](https://docs.python.org/3/library/random.html#random.sample)).*"
   ]
  },
  {
   "cell_type": "code",
   "execution_count": 25,
   "metadata": {},
   "outputs": [
    {
     "name": "stdout",
     "output_type": "stream",
     "text": [
      "[8, 77, 12, 54, 19, 29, 71, 14, 81, 73, 3, 78, 36, 92, 96, 56, 72, 35, 84, 4, 63, 85, 17, 41, 49, 61, 34, 88, 75, 82, 59, 65, 62, 57, 18, 21, 26, 86, 22, 25, 66, 30, 1, 38, 11, 28, 74, 83, 89, 13, 16, 6, 44, 55, 37, 64, 100, 45, 93, 99, 42, 79, 97, 40, 23, 69, 32, 2, 33, 20, 10, 5, 46, 0, 67, 80, 76, 58, 95, 60]\n"
     ]
    },
    {
     "data": {
      "text/plain": [
       "list"
      ]
     },
     "execution_count": 25,
     "metadata": {},
     "output_type": "execute_result"
    }
   ],
   "source": [
    "# Your code here\n",
    "sample_list_1 = random.sample(range(101), k = 80) # let op range 101 ipv 100 + de 'k' hoef je niet per se te noteren\n",
    "print(sample_list_1) \n",
    "\n",
    "type(sample_list_1)\n"
   ]
  },
  {
   "cell_type": "markdown",
   "metadata": {},
   "source": [
    "#### Convert `sample_list_1` to a set called `set1`. Print the length of the set. Is its length still 80?"
   ]
  },
  {
   "cell_type": "code",
   "execution_count": 26,
   "metadata": {},
   "outputs": [
    {
     "name": "stdout",
     "output_type": "stream",
     "text": [
      "{0, 1, 2, 3, 4, 5, 6, 8, 10, 11, 12, 13, 14, 16, 17, 18, 19, 20, 21, 22, 23, 25, 26, 28, 29, 30, 32, 33, 34, 35, 36, 37, 38, 40, 41, 42, 44, 45, 46, 49, 54, 55, 56, 57, 58, 59, 60, 61, 62, 63, 64, 65, 66, 67, 69, 71, 72, 73, 74, 75, 76, 77, 78, 79, 80, 81, 82, 83, 84, 85, 86, 88, 89, 92, 93, 95, 96, 97, 99, 100}\n",
      "the length of the set is: 80\n"
     ]
    },
    {
     "data": {
      "text/plain": [
       "set"
      ]
     },
     "execution_count": 26,
     "metadata": {},
     "output_type": "execute_result"
    }
   ],
   "source": [
    "# Your code here\n",
    "set1 = set(sample_list_1)\n",
    "print(set1)\n",
    "\n",
    "print('the length of the set is:', len(set1))\n",
    "\n",
    "type(set1)\n"
   ]
  },
  {
   "cell_type": "markdown",
   "metadata": {},
   "source": [
    "#### Create another list named `sample_list_2` with 80 random values.\n",
    "\n",
    "Requirements:\n",
    "\n",
    "* Each value is an integer falling between 0 and 100.\n",
    "* The values in the list don't have to be unique.\n",
    "\n",
    "*Hint: Use a FOR loop.*"
   ]
  },
  {
   "cell_type": "code",
   "execution_count": 27,
   "metadata": {},
   "outputs": [
    {
     "name": "stdout",
     "output_type": "stream",
     "text": [
      "[59, 12, 1, 8, 29, 98, 43, 57, 17, 32, 81, 86, 31, 29, 51, 46, 87, 89, 48, 84, 78, 59, 75, 98, 55, 90, 85, 26, 77, 11, 45, 84, 74, 8, 100, 87, 42, 41, 91, 20, 98, 50, 77, 71, 51, 26, 54, 41, 57, 43, 37, 94, 79, 83, 3, 19, 86, 77, 73, 87, 85, 10, 5, 0, 15, 51, 16, 1, 53, 33, 29, 17, 94, 10, 17, 10, 96, 91, 31, 24]\n",
      "The length of the list is: 80\n"
     ]
    }
   ],
   "source": [
    "# Your code here\n",
    "sample_list_2 = []\n",
    "\n",
    "for i in range(80):\n",
    "    i = random.randint(0, 100)\n",
    "    sample_list_2.append(i)\n",
    "print(sample_list_2)\n",
    "\n",
    "print('The length of the list is:', len(sample_list_2))\n",
    "\n",
    "# when using list comprehension: sample_list_2 = [random.randint(0,100) for i in range(80)] \n",
    "# >> instead of starting with i, your i is here the randint function\n"
   ]
  },
  {
   "cell_type": "markdown",
   "metadata": {},
   "source": [
    "#### Convert `sample_list_2` to a set called `set2`. Print the length of the set. Is its length still 80?"
   ]
  },
  {
   "cell_type": "code",
   "execution_count": 28,
   "metadata": {},
   "outputs": [
    {
     "name": "stdout",
     "output_type": "stream",
     "text": [
      "{0, 1, 3, 5, 8, 10, 11, 12, 15, 16, 17, 19, 20, 24, 26, 29, 31, 32, 33, 37, 41, 42, 43, 45, 46, 48, 50, 51, 53, 54, 55, 57, 59, 71, 73, 74, 75, 77, 78, 79, 81, 83, 84, 85, 86, 87, 89, 90, 91, 94, 96, 98, 100}\n",
      "The lenght of the set is: 53\n"
     ]
    }
   ],
   "source": [
    "# Your code here\n",
    "set2 = set(sample_list_2)\n",
    "print(set2)\n",
    "\n",
    "print('The lenght of the set is:', len(set2))\n"
   ]
  },
  {
   "cell_type": "markdown",
   "metadata": {},
   "source": [
    "#### Identify the elements present in `set1` but not in `set2`. Assign the elements to a new set named `set3`."
   ]
  },
  {
   "cell_type": "code",
   "execution_count": 29,
   "metadata": {},
   "outputs": [
    {
     "name": "stdout",
     "output_type": "stream",
     "text": [
      "{2, 4, 6, 13, 14, 18, 21, 22, 23, 25, 28, 30, 34, 35, 36, 38, 40, 44, 49, 56, 58, 60, 61, 62, 63, 64, 65, 66, 67, 69, 72, 76, 80, 82, 88, 92, 93, 95, 97, 99}\n"
     ]
    }
   ],
   "source": [
    "# Your code here\n",
    "# welke zitten wel in set1 maar niet in set2 >> set1 - set2 \n",
    "\n",
    "set3 = set1 - set2\n",
    "print(set3)\n"
   ]
  },
  {
   "cell_type": "markdown",
   "metadata": {},
   "source": [
    "#### Identify the elements present in `set2` but not in `set1`. Assign the elements to a new set named `set4`."
   ]
  },
  {
   "cell_type": "code",
   "execution_count": 30,
   "metadata": {},
   "outputs": [
    {
     "name": "stdout",
     "output_type": "stream",
     "text": [
      "{98, 43, 15, 48, 50, 51, 53, 87, 24, 90, 91, 94, 31}\n"
     ]
    }
   ],
   "source": [
    "# Your code here\n",
    "# welke zitten wel in set2 maar niet in set1 >> set2 - set1\n",
    "\n",
    "set4 = set2 - set1\n",
    "print(set4)\n"
   ]
  },
  {
   "cell_type": "markdown",
   "metadata": {},
   "source": [
    "#### Now Identify the elements shared between `set1` and `set2`. Assign the elements to a new set named `set5`."
   ]
  },
  {
   "cell_type": "code",
   "execution_count": 31,
   "metadata": {},
   "outputs": [
    {
     "name": "stdout",
     "output_type": "stream",
     "text": [
      "{0, 1, 3, 5, 8, 10, 11, 12, 16, 17, 19, 20, 26, 29, 32, 33, 37, 41, 42, 45, 46, 54, 55, 57, 59, 71, 73, 74, 75, 77, 78, 79, 81, 83, 84, 85, 86, 89, 96, 100}\n"
     ]
    }
   ],
   "source": [
    "# Your code here\n",
    "# welke elementen zitten zowel in set1 en in set2 >> intersection \n",
    "\n",
    "set5 = set1.intersection(set2)\n",
    "print(set5)\n"
   ]
  },
  {
   "cell_type": "markdown",
   "metadata": {},
   "source": [
    "#### What is the relationship among the following values:\n",
    "\n",
    "* len(set1)\n",
    "* len(set2)\n",
    "* len(set3)\n",
    "* len(set4)\n",
    "* len(set5)\n",
    "\n",
    "Use a math formular to represent that relationship. Test your formular with Python code."
   ]
  },
  {
   "cell_type": "code",
   "execution_count": 32,
   "metadata": {},
   "outputs": [
    {
     "name": "stdout",
     "output_type": "stream",
     "text": [
      "set3 has the same length as set5\n",
      "80\n",
      "53\n",
      "40\n",
      "13\n",
      "40\n"
     ]
    }
   ],
   "source": [
    "# Your code here\n",
    "\n",
    "if len(set1) == len(set2):\n",
    "    print('set1 has the same length as set2')\n",
    "elif len(set1) == len(set3):\n",
    "    print('set1 has the same length as set3')\n",
    "elif len(set1) == len(set4):\n",
    "    print('set1 has the same length as set4')\n",
    "elif len(set1) == len(set5):\n",
    "    print('set1 has the same length as set5')\n",
    "elif len(set2) == len(set3):\n",
    "    print('set2 has the same length as set3')\n",
    "elif len(set2) == len(set4):\n",
    "    print('set2 has the same length as set4')\n",
    "elif len(set2) == len(set5):\n",
    "    print('set2 has the same length as set5')\n",
    "elif len(set3) == len(set4):\n",
    "    print('set3 has the same length as set4')\n",
    "elif len(set3) == len(set5):\n",
    "    print('set3 has the same length as set5')\n",
    "elif len(set4) == len(set5):\n",
    "    print('set4 has the same length as set4')\n",
    "else:\n",
    "    print('All the sets are not related')\n",
    "    \n",
    "# checking the length\n",
    "print(len(set1)) \n",
    "print(len(set2))\n",
    "print(len(set3))\n",
    "print(len(set4))\n",
    "print(len(set5))\n",
    "\n",
    "# example \n",
    "# print(len(set1) + len(set2) >= len(set3) + len(set4))\n"
   ]
  },
  {
   "cell_type": "markdown",
   "metadata": {},
   "source": [
    "#### Create an empty set called `set6`."
   ]
  },
  {
   "cell_type": "code",
   "execution_count": 33,
   "metadata": {},
   "outputs": [],
   "source": [
    "# Your code here\n",
    "set6 = set()\n"
   ]
  },
  {
   "cell_type": "markdown",
   "metadata": {},
   "source": [
    "#### Add `set3` and `set5` to `set6` using the Python Set `update` method."
   ]
  },
  {
   "cell_type": "code",
   "execution_count": 34,
   "metadata": {},
   "outputs": [
    {
     "name": "stdout",
     "output_type": "stream",
     "text": [
      "{0, 1, 2, 3, 4, 5, 6, 8, 10, 11, 12, 13, 14, 16, 17, 18, 19, 20, 21, 22, 23, 25, 26, 28, 29, 30, 32, 33, 34, 35, 36, 37, 38, 40, 41, 42, 44, 45, 46, 49, 54, 55, 56, 57, 58, 59, 60, 61, 62, 63, 64, 65, 66, 67, 69, 71, 72, 73, 74, 75, 76, 77, 78, 79, 80, 81, 82, 83, 84, 85, 86, 88, 89, 92, 93, 95, 96, 97, 99, 100}\n"
     ]
    }
   ],
   "source": [
    "# Your code here\n",
    "set6.update(set3.union(set5)) # also good: set6.update(set3,set5)\n",
    "print(set6)\n"
   ]
  },
  {
   "cell_type": "markdown",
   "metadata": {},
   "source": [
    "#### Check if `set1` and `set6` are equal."
   ]
  },
  {
   "cell_type": "code",
   "execution_count": 35,
   "metadata": {},
   "outputs": [
    {
     "data": {
      "text/plain": [
       "True"
      ]
     },
     "execution_count": 35,
     "metadata": {},
     "output_type": "execute_result"
    }
   ],
   "source": [
    "# Your code here\n",
    "set1 == set6\n"
   ]
  },
  {
   "cell_type": "markdown",
   "metadata": {},
   "source": [
    "#### Check if `set1` contains `set2` using the Python Set `issubset` method. Then check if `set1` contains `set3`.*"
   ]
  },
  {
   "cell_type": "code",
   "execution_count": 36,
   "metadata": {},
   "outputs": [
    {
     "name": "stdout",
     "output_type": "stream",
     "text": [
      "Both are false: not all items in set1 exists in set2 or set3\n"
     ]
    }
   ],
   "source": [
    "# Your code here\n",
    "\n",
    "set1.issubset(set2)\n",
    "set1.issubset(set3)\n",
    "\n",
    "print('Both are false: not all items in set1 exists in set2 or set3')"
   ]
  },
  {
   "cell_type": "markdown",
   "metadata": {},
   "source": [
    "#### Using the Python Set `union` method, aggregate `set3`, `set4`, and `set5`. Then aggregate `set1` and `set2`. \n",
    "\n",
    "#### Check if the aggregated values are equal."
   ]
  },
  {
   "cell_type": "code",
   "execution_count": 38,
   "metadata": {},
   "outputs": [
    {
     "name": "stdout",
     "output_type": "stream",
     "text": [
      "aggregated set3, set4 and set5: {0, 1, 2, 3, 4, 5, 6, 8, 10, 11, 12, 13, 14, 15, 16, 17, 18, 19, 20, 21, 22, 23, 24, 25, 26, 28, 29, 30, 31, 32, 33, 34, 35, 36, 37, 38, 40, 41, 42, 43, 44, 45, 46, 48, 49, 50, 51, 53, 54, 55, 56, 57, 58, 59, 60, 61, 62, 63, 64, 65, 66, 67, 69, 71, 72, 73, 74, 75, 76, 77, 78, 79, 80, 81, 82, 83, 84, 85, 86, 87, 88, 89, 90, 91, 92, 93, 94, 95, 96, 97, 98, 99, 100}\n",
      "aggregated set1 and set2: {0, 1, 2, 3, 4, 5, 6, 8, 10, 11, 12, 13, 14, 15, 16, 17, 18, 19, 20, 21, 22, 23, 24, 25, 26, 28, 29, 30, 31, 32, 33, 34, 35, 36, 37, 38, 40, 41, 42, 43, 44, 45, 46, 48, 49, 50, 51, 53, 54, 55, 56, 57, 58, 59, 60, 61, 62, 63, 64, 65, 66, 67, 69, 71, 72, 73, 74, 75, 76, 77, 78, 79, 80, 81, 82, 83, 84, 85, 86, 87, 88, 89, 90, 91, 92, 93, 94, 95, 96, 97, 98, 99, 100}\n",
      "True\n"
     ]
    }
   ],
   "source": [
    "# Your code here\n",
    "set7 = set3.union(set4.union(set5)) # also correct: set7 = set.union(set3, set4, set5) \n",
    "print('aggregated set3, set4 and set5:', set7)\n",
    "\n",
    "set8 = set1.union(set2) # also correct: set8 = set.union(set1, set2) \n",
    "print('aggregated set1 and set2:', set8) \n",
    "\n",
    "print(set7 == set8) "
   ]
  },
  {
   "cell_type": "markdown",
   "metadata": {},
   "source": [
    "#### Using the `pop` method, remove the first element from `set1`."
   ]
  },
  {
   "cell_type": "code",
   "execution_count": 39,
   "metadata": {},
   "outputs": [
    {
     "data": {
      "text/plain": [
       "'Whit pop you can not say which element you removed.\\nso removing the first element with pop is not possible'"
      ]
     },
     "execution_count": 39,
     "metadata": {},
     "output_type": "execute_result"
    }
   ],
   "source": [
    "# Your code here\n",
    "\n",
    "'''Whit pop you can not say which element you removed.\n",
    "so removing the first element with pop is not possible'''\n",
    "\n",
    "# yes you can: print(\"element returned\", set1.pop()) \n"
   ]
  },
  {
   "cell_type": "markdown",
   "metadata": {},
   "source": [
    "#### Remove every element in the following list from `set1` if they are present in the set. Print the remaining elements.\n",
    "\n",
    "```\n",
    "list_to_remove = [1, 9, 11, 19, 21, 29, 31, 39, 41, 49, 51, 59, 61, 69, 71, 79, 81, 89, 91, 99]\n",
    "```"
   ]
  },
  {
   "cell_type": "code",
   "execution_count": 41,
   "metadata": {},
   "outputs": [
    {
     "name": "stdout",
     "output_type": "stream",
     "text": [
      "remaining elements in set6 are: {0, 2, 3, 4, 5, 6, 8, 10, 12, 13, 14, 16, 17, 18, 20, 22, 23, 25, 26, 28, 30, 32, 33, 34, 35, 36, 37, 38, 40, 42, 44, 45, 46, 54, 55, 56, 57, 58, 60, 62, 63, 64, 65, 66, 67, 72, 73, 74, 75, 76, 77, 78, 80, 82, 83, 84, 85, 86, 88, 92, 93, 95, 96, 97, 100}\n"
     ]
    },
    {
     "data": {
      "text/plain": [
       "'\\n# Probeer altijd eerst een for loop over de kleinste lijst van de twee te doen, dan doet hij het wel:\\n\\nfor x in list_remove:\\n    if x in set1:\\n        set1.remove(x)\\nprint(set1) \\n\\n'"
      ]
     },
     "execution_count": 41,
     "metadata": {},
     "output_type": "execute_result"
    }
   ],
   "source": [
    "# Your code here\n",
    "list_to_remove = [1, 9, 11, 19, 21, 29, 31, 39, 41, 49, 51, 59, 61, 69, 71, 79, 81, 89, 91, 99]\n",
    "new_set = set()\n",
    "same_elements = [] \n",
    "\n",
    "# welke values komen overeen + maak nieuwe lijst\n",
    "for i in set1:\n",
    "    if i == i in list_to_remove:\n",
    "        same_elements.append(i)\n",
    "\n",
    "# maak set van values die overeen komen \n",
    "new_set.update(same_elements)\n",
    "\n",
    "# remaining elements in set 6: set6 - new_set\n",
    "left_over_set6 = set6 - new_set \n",
    "\n",
    "print('remaining elements in set6 are:', left_over_set6)\n",
    "\n",
    "\n",
    "'''\n",
    "# Probeer altijd eerst een for loop over de kleinste lijst van de twee te doen, dan doet hij het wel:\n",
    "\n",
    "for x in list_remove:\n",
    "    if x in set1:\n",
    "        set1.remove(x)\n",
    "print(set1) \n",
    "\n",
    "'''"
   ]
  },
  {
   "cell_type": "code",
   "execution_count": null,
   "metadata": {},
   "outputs": [],
   "source": []
  }
 ],
 "metadata": {
  "kernelspec": {
   "display_name": "Python 3",
   "language": "python",
   "name": "python3"
  },
  "language_info": {
   "codemirror_mode": {
    "name": "ipython",
    "version": 3
   },
   "file_extension": ".py",
   "mimetype": "text/x-python",
   "name": "python",
   "nbconvert_exporter": "python",
   "pygments_lexer": "ipython3",
   "version": "3.7.3"
  }
 },
 "nbformat": 4,
 "nbformat_minor": 2
}
